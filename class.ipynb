{
 "cells": [
  {
   "cell_type": "code",
   "execution_count": 10,
   "metadata": {},
   "outputs": [],
   "source": [
    "class Robot:\n",
    "    def intro(self):\n",
    "        print(\"My name is \"+ self.name)"
   ]
  },
  {
   "cell_type": "code",
   "execution_count": 11,
   "metadata": {},
   "outputs": [
    {
     "name": "stdout",
     "output_type": "stream",
     "text": [
      "My name is Tom\n"
     ]
    }
   ],
   "source": [
    "r1 = Robot()\n",
    "r1.name=\"Tom\"\n",
    "r1.intro();"
   ]
  },
  {
   "cell_type": "code",
   "execution_count": 12,
   "metadata": {},
   "outputs": [
    {
     "name": "stdout",
     "output_type": "stream",
     "text": [
      "My name is krishan\n"
     ]
    }
   ],
   "source": [
    "r2 = Robot()\n",
    "r2.name = \"krishan\"\n",
    "r2.intro()"
   ]
  },
  {
   "cell_type": "code",
   "execution_count": 20,
   "metadata": {},
   "outputs": [],
   "source": [
    "class Robott:\n",
    "    def __init__(self, name):\n",
    "        self.name = name\n",
    "    def intro(self):\n",
    "        print(\"My name is \"+ self.name)"
   ]
  },
  {
   "cell_type": "code",
   "execution_count": 22,
   "metadata": {},
   "outputs": [
    {
     "name": "stdout",
     "output_type": "stream",
     "text": [
      "My name is Tom2\n"
     ]
    }
   ],
   "source": [
    "r3 = Robott(\"Tom2\")\n",
    "r3.intro()"
   ]
  },
  {
   "cell_type": "code",
   "execution_count": 31,
   "metadata": {},
   "outputs": [],
   "source": [
    "class Person:\n",
    "    def __init__(self, n, i):\n",
    "        self.name = n\n",
    "        self.isSitting = i\n",
    "        \n",
    "    def sit_down(self):\n",
    "        self.isSitting = True\n",
    "        print(\"Position is : \", self.isSitting)\n",
    "        \n",
    "    def stand_up(self):\n",
    "        self.isSitting = False        \n",
    "        print(\"Position is : \", self.isSitting)\n",
    "        "
   ]
  },
  {
   "cell_type": "code",
   "execution_count": 32,
   "metadata": {},
   "outputs": [],
   "source": [
    "p1 = Person(\"Tom\", False)\n",
    "p2 = Person(\"krishan\", True)"
   ]
  },
  {
   "cell_type": "code",
   "execution_count": 33,
   "metadata": {},
   "outputs": [
    {
     "name": "stdout",
     "output_type": "stream",
     "text": [
      "Position is :  True\n",
      "Position is :  False\n"
     ]
    }
   ],
   "source": [
    "p1.sit_down()\n",
    "p1.stand_up()"
   ]
  },
  {
   "cell_type": "code",
   "execution_count": 37,
   "metadata": {},
   "outputs": [
    {
     "data": {
      "text/plain": [
       "bool"
      ]
     },
     "execution_count": 37,
     "metadata": {},
     "output_type": "execute_result"
    }
   ],
   "source": [
    "type(True)"
   ]
  },
  {
   "cell_type": "code",
   "execution_count": null,
   "metadata": {},
   "outputs": [],
   "source": []
  }
 ],
 "metadata": {
  "kernelspec": {
   "display_name": "Python 3",
   "language": "python",
   "name": "python3"
  },
  "language_info": {
   "codemirror_mode": {
    "name": "ipython",
    "version": 3
   },
   "file_extension": ".py",
   "mimetype": "text/x-python",
   "name": "python",
   "nbconvert_exporter": "python",
   "pygments_lexer": "ipython3",
   "version": "3.7.6"
  }
 },
 "nbformat": 4,
 "nbformat_minor": 4
}
